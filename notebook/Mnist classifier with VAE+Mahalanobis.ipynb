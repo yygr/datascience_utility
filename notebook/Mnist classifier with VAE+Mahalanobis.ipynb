{
 "cells": [
  {
   "cell_type": "code",
   "execution_count": 1,
   "metadata": {},
   "outputs": [],
   "source": [
    "import renom as rm\n",
    "import numpy as np\n",
    "import matplotlib.pyplot as plt\n",
    "from numpy import random\n",
    "import sys\n",
    "sys.path.append('../src')\n",
    "from network import network\n",
    "from func import Mahalanobis\n",
    "from sklearn.metrics import confusion_matrix, classification_report\n",
    "from time import time"
   ]
  },
  {
   "cell_type": "code",
   "execution_count": 2,
   "metadata": {},
   "outputs": [],
   "source": [
    "#データロードと設定\n",
    "data = np.load('../data/mnist.npy')\n",
    "y_train = data[0][0]\n",
    "x_train = data[0][1].astype('float32')/255.\n",
    "y_test = data[1][0]\n",
    "x_test = data[1][1].astype('float32')/255.\n",
    "x_train = x_train.reshape(-1, 28*28)\n",
    "x_test = x_test.reshape(-1, 28*28)"
   ]
  },
  {
   "cell_type": "code",
   "execution_count": 3,
   "metadata": {},
   "outputs": [],
   "source": [
    "random.seed(10) #擬似乱数シード固定\n",
    "latent_dim = 10 #潜在変数空間の次元数\n",
    "epoch = 10 #学習エポック数\n",
    "batch_size = 256 #バッチサイズ\n",
    "opt = rm.Adam() #勾配最適化関数\n",
    "# 以下はネットワーク定義\n",
    "ae = network((batch_size, 28*28), epoch=epoch, latent_dim=latent_dim)"
   ]
  },
  {
   "cell_type": "code",
   "execution_count": 4,
   "metadata": {},
   "outputs": [
    {
     "name": "stdout",
     "output_type": "stream",
     "text": [
      "#    1/   10 KL:3.049 ReconE:23.938 ETA:0.0sec 0.02,0.07,0.09            \n",
      "*    2/   10 KL:4.745 ReconE:15.904 ETA:0.0sec 0.02,0.08,0.10            \n",
      "-----------------------------------\n",
      "#    3/   10 KL:5.342 ReconE:14.573 ETA:0.0sec 0.02,0.09,0.12            \n",
      "*    4/   10 KL:5.337 ReconE:13.665 ETA:0.0sec 0.02,0.09,0.11            \n",
      "-----------------------------------\n",
      "#    5/   10 KL:5.547 ReconE:13.242 ETA:0.0sec 0.02,0.09,0.11            \n",
      "*    6/   10 KL:5.315 ReconE:12.738 ETA:0.0sec 0.02,0.10,0.12            \n",
      "-----------------------------------\n",
      "#    7/   10 KL:5.431 ReconE:12.520 ETA:0.0sec 0.02,0.10,0.12            \n",
      "*    8/   10 KL:5.150 ReconE:12.122 ETA:0.0sec 0.02,0.10,0.12            \n",
      "-----------------------------------\n",
      "#    9/   10 KL:5.226 ReconE:11.970 ETA:0.0sec 0.02,0.10,0.12            \n",
      "*   10/   10 KL:4.923 ReconE:11.614 ETA:0.0sec 0.02,0.10,0.12            \n",
      "-----------------------------------\n"
     ]
    }
   ],
   "source": [
    "# 学習 （学習カーブ等はnotebook/result/内に保存、潜在変数次元が3以上は潜在変数空間をスナップショットとらない設定）\n",
    "ae.train(opt, x_train, x_test, y_train, y_test)"
   ]
  },
  {
   "cell_type": "code",
   "execution_count": 5,
   "metadata": {},
   "outputs": [
    {
     "name": "stdout",
     "output_type": "stream",
     "text": [
      "=59904/60000 KL:4.971 ReconE:11.531 ETA:0.0sec 0.02,0.00,0.02            \r"
     ]
    }
   ],
   "source": [
    "#学習データの推論\n",
    "_, z_train, xz_train = ae.mini_batch(opt, x_train, inference=True)"
   ]
  },
  {
   "cell_type": "code",
   "execution_count": 6,
   "metadata": {},
   "outputs": [
    {
     "name": "stdout",
     "output_type": "stream",
     "text": [
      "Computing Dist\n",
      " 6.198883056640625e-06sec\n"
     ]
    }
   ],
   "source": [
    "#推論した学習データの潜在変数ベクトルとラベルから共分散行列を計算\n",
    "f = Mahalanobis(z_train, y_train)\n",
    "#ラベルの外れ値をどの程度許容するか\n",
    "f.set_th(0.9998)"
   ]
  },
  {
   "cell_type": "code",
   "execution_count": 7,
   "metadata": {},
   "outputs": [
    {
     "name": "stdout",
     "output_type": "stream",
     "text": [
      "= 9984/10000 KL:4.998 ReconE:11.284 ETA:0.0sec 0.01,0.00,0.01           \r"
     ]
    }
   ],
   "source": [
    "#テストデータの推論\n",
    "_, z_test, xz_test = ae.mini_batch(opt, x_test, inference=True)"
   ]
  },
  {
   "cell_type": "code",
   "execution_count": 8,
   "metadata": {},
   "outputs": [
    {
     "name": "stdout",
     "output_type": "stream",
     "text": [
      "7.11sec\n",
      "[[ 954    0    8    2    0    9    2    1    4    0]\n",
      " [   0 1070   13    7    1    2    2    7   32    1]\n",
      " [  10    0  970   15    4    7    4    7   15    0]\n",
      " [   2    0   18  936    0   22    0    6   21    5]\n",
      " [   3    0    8    0  923    4    4    0    3   37]\n",
      " [   9    0    3   28    6  829    1    2   11    3]\n",
      " [  20    2    7    2    5   20  897    0    5    0]\n",
      " [   0    4   39    4    5    5    0  922    5   44]\n",
      " [   5    0    9   39    6   18    2    1  884   10]\n",
      " [   7    2    3   17   38    7    0   16   11  908]]\n",
      "             precision    recall  f1-score   support\n",
      "\n",
      "          0       0.94      0.97      0.96       980\n",
      "          1       0.99      0.94      0.97      1135\n",
      "          2       0.90      0.94      0.92      1032\n",
      "          3       0.89      0.93      0.91      1010\n",
      "          4       0.93      0.94      0.94       982\n",
      "          5       0.90      0.93      0.91       892\n",
      "          6       0.98      0.94      0.96       958\n",
      "          7       0.96      0.90      0.93      1028\n",
      "          8       0.89      0.91      0.90       974\n",
      "          9       0.90      0.90      0.90      1009\n",
      "\n",
      "avg / total       0.93      0.93      0.93     10000\n",
      "\n"
     ]
    }
   ],
   "source": [
    "#テストデータの潜在変数ベクトルからクラス分類\n",
    "process_t = time()\n",
    "pred = np.argmin(f.predict(z_test), 1)\n",
    "print('{:.2f}sec'.format(time()-process_t))\n",
    "print(confusion_matrix(y_test, pred))\n",
    "print(classification_report(y_test, pred))"
   ]
  },
  {
   "cell_type": "code",
   "execution_count": 9,
   "metadata": {},
   "outputs": [],
   "source": [
    "from sklearn.neighbors import KNeighborsClassifier\n",
    "knn = KNeighborsClassifier().fit(z_train, y_train.reshape(-1))"
   ]
  },
  {
   "cell_type": "code",
   "execution_count": 10,
   "metadata": {},
   "outputs": [
    {
     "name": "stdout",
     "output_type": "stream",
     "text": [
      "1.92sec\n",
      "[[ 964    1    1    1    0    1   10    1    1    0]\n",
      " [   0 1127    3    2    1    0    1    0    1    0]\n",
      " [   6    3  995    6    2    0    3    4   13    0]\n",
      " [   1    0   15  949    0   13    0    7   23    2]\n",
      " [   1    0    3    0  917    1    8    3    5   44]\n",
      " [   5    3    2   17    4  830   10    1   16    4]\n",
      " [   5    3    1    0    4    4  936    0    5    0]\n",
      " [   2   14   14    1    5    0    0  964    1   27]\n",
      " [   4    0    6   26    1   16    1    2  916    2]\n",
      " [   3    5    3   12   35    2    1   11   12  925]]\n",
      "             precision    recall  f1-score   support\n",
      "\n",
      "          0       0.97      0.98      0.98       980\n",
      "          1       0.97      0.99      0.98      1135\n",
      "          2       0.95      0.96      0.96      1032\n",
      "          3       0.94      0.94      0.94      1010\n",
      "          4       0.95      0.93      0.94       982\n",
      "          5       0.96      0.93      0.94       892\n",
      "          6       0.96      0.98      0.97       958\n",
      "          7       0.97      0.94      0.95      1028\n",
      "          8       0.92      0.94      0.93       974\n",
      "          9       0.92      0.92      0.92      1009\n",
      "\n",
      "avg / total       0.95      0.95      0.95     10000\n",
      "\n"
     ]
    }
   ],
   "source": [
    "process_t = time()\n",
    "pred = knn.predict(z_test)\n",
    "print('{:.2f}sec'.format(time()-process_t))\n",
    "print(confusion_matrix(y_test, pred))\n",
    "print(classification_report(y_test, pred))"
   ]
  },
  {
   "cell_type": "code",
   "execution_count": null,
   "metadata": {},
   "outputs": [],
   "source": []
  }
 ],
 "metadata": {
  "kernelspec": {
   "display_name": "Python 2",
   "language": "python",
   "name": "python2"
  },
  "language_info": {
   "codemirror_mode": {
    "name": "ipython",
    "version": 3
   },
   "file_extension": ".py",
   "mimetype": "text/x-python",
   "name": "python",
   "nbconvert_exporter": "python",
   "pygments_lexer": "ipython3",
   "version": "3.6.2"
  }
 },
 "nbformat": 4,
 "nbformat_minor": 2
}
