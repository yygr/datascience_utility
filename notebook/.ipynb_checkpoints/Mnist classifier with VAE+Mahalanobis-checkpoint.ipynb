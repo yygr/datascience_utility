{
 "cells": [
  {
   "cell_type": "code",
   "execution_count": 1,
   "metadata": {},
   "outputs": [],
   "source": [
    "import renom as rm\n",
    "import numpy as np\n",
    "import matplotlib.pyplot as plt\n",
    "from numpy import random\n",
    "import sys\n",
    "sys.path.append('../src')\n",
    "from network import network\n",
    "from func import Mahalanobis\n",
    "from sklearn.metrics import confusion_matrix, classification_report\n",
    "from time import time"
   ]
  },
  {
   "cell_type": "code",
   "execution_count": 2,
   "metadata": {},
   "outputs": [],
   "source": [
    "#データロードと設定\n",
    "data = np.load('../data/mnist.npy')\n",
    "y_train = data[0][0]\n",
    "x_train = data[0][1].astype('float32')/255.\n",
    "y_test = data[1][0]\n",
    "x_test = data[1][1].astype('float32')/255.\n",
    "x_train = x_train.reshape(-1, 28*28)\n",
    "x_test = x_test.reshape(-1, 28*28)"
   ]
  },
  {
   "cell_type": "code",
   "execution_count": 3,
   "metadata": {},
   "outputs": [],
   "source": [
    "random.seed(10) #擬似乱数シード固定\n",
    "latent_dim = 10 #潜在変数空間の次元数\n",
    "epoch = 10 #学習エポック数\n",
    "batch_size = 256 #バッチサイズ\n",
    "opt = rm.Adam() #勾配最適化関数\n",
    "# 以下はネットワーク定義\n",
    "ae = network((batch_size, 28*28), epoch=epoch, latent_dim=latent_dim)"
   ]
  },
  {
   "cell_type": "code",
   "execution_count": null,
   "metadata": {},
   "outputs": [
    {
     "name": "stdout",
     "output_type": "stream",
     "text": [
      "#    1/   10 KL:3.049 ReconE:23.938 ETA:0.0sec 0.02,0.07,0.09            \n",
      "*    2/   10 KL:4.745 ReconE:15.904 ETA:0.0sec 0.02,0.08,0.10            \n",
      "-----------------------------------\n",
      ">49408/60000 KL:5.312 ReconE:14.628 ETA:4.3sec 0.02,0.08,0.10            \r"
     ]
    }
   ],
   "source": [
    "# 学習 （学習カーブ等はnotebook/result/内に保存、潜在変数次元が3以上は潜在変数空間をスナップショットとらない設定）\n",
    "ae.train(opt, x_train, x_test, y_train, y_test)"
   ]
  },
  {
   "cell_type": "code",
   "execution_count": null,
   "metadata": {},
   "outputs": [],
   "source": [
    "#学習データの推論\n",
    "_, z_train, xz_train = ae.mini_batch(opt, x_train, inference=True)"
   ]
  },
  {
   "cell_type": "code",
   "execution_count": null,
   "metadata": {},
   "outputs": [],
   "source": [
    "#推論した学習データの潜在変数ベクトルとラベルから共分散行列を計算\n",
    "f = Mahalanobis(z_train, y_train)\n",
    "#ラベルの外れ値をどの程度許容するか\n",
    "f.set_th(0.9998)"
   ]
  },
  {
   "cell_type": "code",
   "execution_count": null,
   "metadata": {},
   "outputs": [],
   "source": [
    "#テストデータの推論\n",
    "_, z_test, xz_test = ae.mini_batch(opt, x_test, inference=True)"
   ]
  },
  {
   "cell_type": "code",
   "execution_count": null,
   "metadata": {},
   "outputs": [],
   "source": [
    "#テストデータの潜在変数ベクトルからクラス分類\n",
    "process_t = time()\n",
    "pred = np.argmin(f.predict(z_test), 1)\n",
    "print('{:.2f}sec'.format(time()-process_t))\n",
    "print(confusion_matrix(y_test, pred))\n",
    "print(classification_report(y_test, pred))"
   ]
  },
  {
   "cell_type": "code",
   "execution_count": null,
   "metadata": {},
   "outputs": [],
   "source": [
    "from sklearn.neighbors import KNeighborsClassifier\n",
    "knn = KNeighborsClassifier().fit(z_train, y_train.reshape(-1))"
   ]
  },
  {
   "cell_type": "code",
   "execution_count": null,
   "metadata": {},
   "outputs": [],
   "source": [
    "process_t = time()\n",
    "pred = knn.predict(z_test)\n",
    "print('{:.2f}sec'.format(time()-process_t))\n",
    "print(confusion_matrix(y_test, pred))\n",
    "print(classification_report(y_test, pred))"
   ]
  },
  {
   "cell_type": "code",
   "execution_count": null,
   "metadata": {},
   "outputs": [],
   "source": []
  }
 ],
 "metadata": {
  "kernelspec": {
   "display_name": "Python 2",
   "language": "python",
   "name": "python2"
  },
  "language_info": {
   "codemirror_mode": {
    "name": "ipython",
    "version": 3
   },
   "file_extension": ".py",
   "mimetype": "text/x-python",
   "name": "python",
   "nbconvert_exporter": "python",
   "pygments_lexer": "ipython3",
   "version": "3.6.2"
  }
 },
 "nbformat": 4,
 "nbformat_minor": 2
}
